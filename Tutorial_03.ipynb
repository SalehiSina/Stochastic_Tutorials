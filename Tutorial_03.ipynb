{
 "cells": [
  {
   "cell_type": "markdown",
   "metadata": {
    "id": "s-SLarXEvXDA"
   },
   "source": [
    "\n",
    "\n",
    "![tud_logo_og_square.png](data:image/png;base64,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)\n",
    "\n",
    ">**Stochastic Modeling and Simulation**\n",
    "\n",
    "> Winter Semester 2024/25\n",
    "\n",
    "\n",
    "\n",
    "\n",
    "\n"
   ]
  },
  {
   "cell_type": "markdown",
   "metadata": {
    "id": "cuM5_iJ6wPrW"
   },
   "source": [
    "The following questions are for helping you in understanding the contents of the lecture. Your answers will not be collected or graded but we will discuss the solutions in the class. If you cannot easily answer the questions or have doubts regarding the correctness of your answers, please take a few minutes to review the contents in the book or through the web. Also, please feel free to ask your questions and concerns about the questions in the tutorial classes or in the Forum in the Opal."
   ]
  },
  {
   "cell_type": "markdown",
   "metadata": {
    "id": "KAEzOBXgrKOv"
   },
   "source": [
    "In the code cells, please change the ***None*** values between **##start** and **##end** to a desirable code or value. Then, you can run the cell."
   ]
  },
  {
   "cell_type": "code",
   "execution_count": 1,
   "metadata": {
    "executionInfo": {
     "elapsed": 4627,
     "status": "ok",
     "timestamp": 1731935108462,
     "user": {
      "displayName": "Salehi Sina",
      "userId": "11951930659171361806"
     },
     "user_tz": -60
    },
    "id": "o-uTqJogE34_"
   },
   "outputs": [],
   "source": [
    "import numpy as np\n",
    "import matplotlib.pyplot as plt\n",
    "from scipy.stats import norm"
   ]
  },
  {
   "cell_type": "markdown",
   "metadata": {
    "id": "P5nAKUQzMNzr"
   },
   "source": [
    "# Transformation of discrete random variables"
   ]
  },
  {
   "cell_type": "markdown",
   "metadata": {
    "id": "KfCP3hSrMX-c"
   },
   "source": [
    "\n",
    "\n",
    "*   Roll a dice (X) and multiply the value by 10 ($Y = 10X$). What is the PMF of $Y$ ?\n",
    "*   Let X be a discrete uniform random variable on $\\{ -n, -n + 1, \\dots , n - 1, n \\}$. What is the\n",
    "PMF of $Y = X^2$?\n",
    "*   Let X be a Poisson random variable on $xϵ\\{0, 1, 2, 3, ...\\}$. What is the PMF of its linear\n",
    "transformation $Y = aX + b$?\n"
   ]
  },
  {
   "cell_type": "markdown",
   "metadata": {
    "id": "2d1HfipkMndC"
   },
   "source": [
    "# Transformation of continuous random variables"
   ]
  },
  {
   "cell_type": "markdown",
   "metadata": {
    "id": "t9Ok7avxNqJV"
   },
   "source": [
    "Let $ X \\sim U(0, 1) $ where its PDF is: \n",
    "\\\n",
    "$\n",
    "f_X(x) = \\begin{cases}\n",
    "1, & \\text{if } x \\in [0, 1], \\\\\n",
    "0, & \\text{otherwise}.\n",
    "\\end{cases}\n",
    "$"
   ]
  },
  {
   "cell_type": "markdown",
   "metadata": {
    "id": "mzpQCbluOqit"
   },
   "source": [
    "\n",
    "\n",
    "*   What is the PDF of $Y$ if $Y = 2X$?\n",
    "*   What is the PDF of $Y$ if $Y = 2 - X$?\n",
    "*   What is the PDF of $Y$ if $Y = X^p$?\n"
   ]
  },
  {
   "cell_type": "markdown",
   "metadata": {
    "id": "cCSTwtQMPLt8"
   },
   "source": [
    "# Uniform random number generators"
   ]
  },
  {
   "cell_type": "markdown",
   "metadata": {
    "id": "R63gwy1hPXw9"
   },
   "source": [
    "The linear congruential generator (**LCG**) gives pseudo-random numbers $\\mu_i$ from a uniform distribution $U(0, 1)$. You can read more about this algorithm here: https://en.wikipedia.org/wiki/Linear_congruential_generator\n",
    "\n",
    "\n",
    "The algorithm can be expressed as follows: \n",
    "\n",
    "\n",
    "\n",
    "- **Initialize** $ a, m, z_0, n$\n",
    "\n",
    "- **Set** $i = 1$\n",
    "\n",
    "- **While** $i < n$  **do**:\n",
    "\n",
    "    i. $z_i \\gets (a \\cdot z_{i-1} + c) \\mod m$ \n",
    "\n",
    "    ii. $u_i \\gets \\frac{z_i}{m}$\n",
    "    \n",
    "    iii. $i \\gets i + 1$\n"
   ]
  },
  {
   "cell_type": "markdown",
   "metadata": {
    "id": "7YEyU95XVFHu"
   },
   "source": [
    "In the follwoing code, you can implement this algoritm using a multiplier $a = 7$, modulus $m = 2^{13} - 1$, and a seed of $z_0 = 1$.\n",
    "\\\n",
    "Can you explain what you observe in the last plots?"
   ]
  },
  {
   "cell_type": "code",
   "execution_count": null,
   "metadata": {
    "id": "ITxvxdj1WTGl"
   },
   "outputs": [],
   "source": [
    "# Linear Congruential Generator (LCG) implementation\n",
    "def lcg(seed, a, c, m, n):\n",
    "    \"\"\"\n",
    "    Generates 'n' random numbers using the Linear Congruential Generator (LCG) method.\n",
    "\n",
    "    seed: Initial seed value\n",
    "    a: Multiplier\n",
    "    c: Increment\n",
    "    m: Modulus\n",
    "    n: Number of random numbers to generate\n",
    "\n",
    "    return: Array of 'n' generated random numbers\n",
    "    \"\"\"\n",
    "    # Initialize list for random numbers\n",
    "    random_numbers = []\n",
    "    z = seed  # Initial seed\n",
    "\n",
    "    ##start\n",
    "    for _ in range(n):\n",
    "        z = None  # Apply LCG formula (step i)\n",
    "        u = None            # Scale the number to [0, 1) (step ii)\n",
    "        random_numbers.append(u)\n",
    "    ##end\n",
    "    return np.array(random_numbers)\n",
    "\n",
    "# Parameters for the LCG\n",
    "seed = 1  # Initial seed value\n",
    "a = 7  # Multiplier (common choice for many LCGs)\n",
    "c = 0  # Increment (common choice for many LCGs)\n",
    "m = 2**13-1  # Modulus (2^32 is a common choice)\n",
    "n = 1000  # Number of random numbers to generate\n",
    "\n",
    "# Generate random numbers using LCG\n",
    "\n",
    "##start\n",
    "\n",
    "random_numbers = lcg(None, None, None, None, None)\n",
    "\n",
    "##end\n",
    "\n",
    "x = np.linspace(0, 1, 10)\n",
    "freq, base = np.histogram(random_numbers , bins=x )\n",
    "cdf = np.cumsum( freq ) /np .cumsum( freq )[-1]\n",
    "\n",
    "# Generate random numbers using numpy.random.uniform\n",
    "freq_r, base_r = np.histogram(np.random.uniform(0, 1, n) , bins=x )\n",
    "cdf_r = np.cumsum( freq_r ) /np .cumsum( freq_r )[-1]\n",
    "\n",
    "\n",
    "# Create a 2x2 grid of subplots\n",
    "fig, axes = plt.subplots(2, 2)\n",
    "\n",
    "# First subplot: CDF for LCG\n",
    "axes[0, 0].plot(base[1:], cdf)\n",
    "axes[0, 0].set_title('Linear Congruential Generator (LCG) Output')\n",
    "axes[0, 0].set_xlabel('X')\n",
    "axes[0, 0].set_ylabel('CDF')\n",
    "axes[0, 0].grid(True)\n",
    "axes[0, 0].set_xlim(0, 1)\n",
    "axes[0, 0].set_ylim(0, 1.2)\n",
    "\n",
    "# Second subplot: CDF for numpy uniform generator\n",
    "axes[0, 1].plot(base[1:], cdf)\n",
    "axes[0, 1].set_title('Numpy Uniform Generator')\n",
    "axes[0, 1].set_xlabel('X')\n",
    "axes[0, 1].set_ylabel('CDF')\n",
    "axes[0, 1].grid(True)\n",
    "axes[0, 1].set_xlim(0, 1)\n",
    "axes[0, 1].set_ylim(0, 1.2)\n",
    "\n",
    "# Third subplot: PDF for LCG\n",
    "axes[1, 0].plot(base[1:], (freq / n) / base[1])\n",
    "axes[1, 0].set_title('Linear Congruential Generator (LCG) Output')\n",
    "axes[1, 0].set_xlabel('X')\n",
    "axes[1, 0].set_ylabel('PDF')\n",
    "axes[1, 0].grid(True)\n",
    "axes[1, 0].set_xlim(0, 1)\n",
    "axes[1, 0].set_ylim(0, 1.2)\n",
    "\n",
    "# Fourth subplot: PDF for numpy uniform generator\n",
    "axes[1, 1].plot(base[1:], (freq_r / n) / base_r[1])\n",
    "axes[1, 1].set_title('Numpy Uniform Generator')\n",
    "axes[1, 1].set_xlabel('X')\n",
    "axes[1, 1].set_ylabel('PDF')\n",
    "axes[1, 1].grid(True)\n",
    "axes[1, 1].set_xlim(0, 1)\n",
    "axes[1, 1].set_ylim(0, 1.2)\n",
    "\n",
    "# Show the plots\n",
    "plt.tight_layout()  # Adjust layout to prevent overlap\n",
    "plt.show()"
   ]
  },
  {
   "attachments": {
    "mem_random_number_generation.jpg": {
     "image/jpeg": "[encoded data removed]"
    }
   },
   "cell_type": "markdown",
   "metadata": {},
   "source": [
    "![mem_random_number_generation.jpg](attachment:mem_random_number_generation.jpg)"
   ]
  },
  {
   "cell_type": "markdown",
   "metadata": {
    "id": "exG4KtzVWVhH"
   },
   "source": [
    "# Simulating other distributions from a uniform distribution"
   ]
  },
  {
   "cell_type": "markdown",
   "metadata": {
    "id": "yJ7VYjpFWgWH"
   },
   "source": [
    "Use the follwing code box to simulate 100 random numbers from a Bernoulli distribution $ Y \\sim B(0.7) $, generated from $ X \\sim U(0, 1) $. \\"
   ]
  },
  {
   "cell_type": "code",
   "execution_count": null,
   "metadata": {
    "id": "vCFBJAqOXSev"
   },
   "outputs": [],
   "source": [
    "##start\n",
    "\n",
    "# Simulating 100 random numbers from U(0, 1)\n",
    "X = np.random.uniform(None, None, None)\n",
    "\n",
    "# Generating Bernoulli random variables Y based on X\n",
    "Y = (X > None).astype(int)  # Bernoulli distribution with p = 0.5\n",
    "\n",
    "\n",
    "##end\n",
    "\n",
    "\n",
    "# Plotting\n",
    "plt.scatter(X, Y)\n",
    "plt.xlabel('X')\n",
    "plt.ylabel('Y')\n",
    "plt.title('Plot of X versus Y')\n",
    "plt.show()"
   ]
  },
  {
   "cell_type": "code",
   "execution_count": null,
   "metadata": {
    "id": "BGqNogkRdsMj"
   },
   "outputs": [],
   "source": [
    "# Calculate the probabilities for each value of Y\n",
    "unique_values, counts = np.unique(Y, return_counts=True)\n",
    "probs_Y = counts / len(Y)\n",
    "\n",
    "# Plot y versus P(y)\n",
    "plt.bar(unique_values, probs_Y, width=0.05, align='center', color='red')\n",
    "plt.xlabel('y')\n",
    "plt.ylabel('P(y)')\n",
    "plt.title('Plot of y versus P(y)')\n",
    "plt.grid(True)\n",
    "plt.show()"
   ]
  },
  {
   "cell_type": "markdown",
   "metadata": {
    "id": "SQXNPuP1baBk"
   },
   "source": [
    "Consider a random variable $ Y $ that takes values 1, 3, and 4 with the following probabilities: \n",
    "\n",
    "$\n",
    "P(Y = 1) = \\frac{3}{5}, \\quad P(Y = 3) = \\frac{1}{5}, \\quad P(Y = 4) = \\frac{1}{5}.\n",
    "$\n",
    "\n",
    "\n",
    "\n",
    "Using the code box below, you can simulate 1000 random numbers from $ Y $, generated from $ X \\sim U(0, 1) $.\n"
   ]
  },
  {
   "cell_type": "code",
   "execution_count": null,
   "metadata": {
    "id": "3wjT1FWkcDMY"
   },
   "outputs": [],
   "source": [
    "# Define the probabilities and corresponding values of Y\n",
    "probabilities = [3/5, 1/5, 1/5]\n",
    "values_Y = [1, 3, 4]\n",
    "\n",
    "# Simulate 1000 random numbers from X ~ U(0, 1)\n",
    "X = np.random.uniform(0, 1, 1000)\n",
    "\n",
    "# Generate Y based on the probabilities using the inverse transform method\n",
    "Y = []\n",
    "##start\n",
    "\n",
    "for x in X:\n",
    "  if x < probabilities[0]:\n",
    "    Y.append(values_Y[0])\n",
    "  elif None < x < None:\n",
    "    Y.append(None)\n",
    "  else:\n",
    "    Y.append(None)\n",
    "\n",
    "##end\n",
    "\n",
    "# Calculate the probabilities for each value of Y\n",
    "unique_values, counts = np.unique(Y, return_counts=True)\n",
    "probs_Y = counts / len(Y)\n",
    "\n",
    "# Plot y versus P(y)\n",
    "plt.bar(unique_values, probs_Y, width=0.05, align='center', color='red')\n",
    "plt.xlabel('y')\n",
    "plt.ylabel('P(y)')\n",
    "plt.title('Plot of y versus P(y)')\n",
    "plt.grid(True)\n",
    "plt.show()"
   ]
  },
  {
   "cell_type": "markdown",
   "metadata": {
    "id": "zhbyX_jfenWP"
   },
   "source": [
    "Let $X \\sim U(0, 1)$ and we want to find the inverse transform to obtain a random variable $ Y \\sim \\text{Exp}(\\lambda) $, where the CDF of $ Y $ is given by:\n",
    "\n",
    "\n",
    "\n",
    "$\n",
    "F_Y(y) =\n",
    "\\begin{cases}\n",
    "0 & \\text{if } y < 0, \\\\\n",
    "1 - e^{-\\lambda y} & \\text{if } y \\geq 0.\n",
    "\\end{cases}\n",
    "$\n",
    "\n",
    "\n",
    "\n",
    "How can we generate random variable $ Y \\sim \\text{Exp}(\\lambda) $ using random numbers generated from a uniform distribution ($X$ ) and the inverse transform ?"
   ]
  },
  {
   "cell_type": "markdown",
   "metadata": {
    "id": "2veLJMIH5zaO"
   },
   "source": [
    "Please complete th following code box to simulate 1000 random variables using this method. Are the generated RVs satisfy your expectations? What can you sat from the plot?"
   ]
  },
  {
   "cell_type": "code",
   "execution_count": null,
   "metadata": {
    "id": "qv73Mldu6PtU"
   },
   "outputs": [],
   "source": [
    "# Set the rate parameter lambda for the exponential distribution\n",
    "lambda_param = 1.0  # You can change this value to your specific lambda\n",
    "\n",
    "# Generate 1000 random numbers from a uniform distribution U(0, 1)\n",
    "X = np.random.uniform(0, 1, 1000)\n",
    "\n",
    "# Apply the inverse transform to generate random numbers from Exp(lambda)\n",
    "\n",
    "##start\n",
    "\n",
    "Y = None\n",
    "\n",
    "##end\n",
    "\n",
    "\n",
    "# Plot the generated values of Y\n",
    "plt.hist(Y, bins=30, density=True, alpha=0.6, color='g')\n",
    "plt.title(f'Histogram of Exponential Distribution (lambda={lambda_param})')\n",
    "plt.xlabel('Y')\n",
    "plt.ylabel('Density')\n",
    "plt.grid(True)\n",
    "plt.show()"
   ]
  }
 ],
 "metadata": {
  "colab": {
   "authorship_tag": "ABX9TyPvYubFP1Hp4GfkBkWy1Lah",
   "collapsed_sections": [
    "P5nAKUQzMNzr",
    "2d1HfipkMndC",
    "cCSTwtQMPLt8",
    "exG4KtzVWVhH"
   ],
   "provenance": []
  },
  "kernelspec": {
   "display_name": "Python 3",
   "name": "python3"
  },
  "language_info": {
   "name": "python"
  }
 },
 "nbformat": 4,
 "nbformat_minor": 0
}
